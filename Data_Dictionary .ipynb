{
 "cells": [
  {
   "cell_type": "markdown",
   "id": "083e5eb5",
   "metadata": {},
   "source": [
    "### Data_Dictionary\n",
    "\n",
    "The data has the following attributes:\n",
    "\n",
    "    - country: Name of the country\n",
    "    - child_mort: Death of children under 5 years of age per 1000 live births\n",
    "    - exports - Exports in % of the GDP per capita\n",
    "    - health - The total spend on health given as % of GDP\n",
    "    - imports - The value of imports given as % of GDP per capita\n",
    "    - income - The net income per person\n",
    "    - inflation - Inflation rate %\n",
    "    - life_expec - Average life expectancy in years\n",
    "    - total_fer - The fertility rate - Average children per woman in the country\n",
    "    - gdpp - GDP per capita\n",
    "    "
   ]
  },
  {
   "cell_type": "code",
   "execution_count": null,
   "id": "a30889f0",
   "metadata": {},
   "outputs": [],
   "source": []
  }
 ],
 "metadata": {
  "kernelspec": {
   "display_name": "Python 3 (ipykernel)",
   "language": "python",
   "name": "python3"
  },
  "language_info": {
   "codemirror_mode": {
    "name": "ipython",
    "version": 3
   },
   "file_extension": ".py",
   "mimetype": "text/x-python",
   "name": "python",
   "nbconvert_exporter": "python",
   "pygments_lexer": "ipython3",
   "version": "3.9.12"
  }
 },
 "nbformat": 4,
 "nbformat_minor": 5
}
